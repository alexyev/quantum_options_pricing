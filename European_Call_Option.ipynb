{
  "nbformat": 4,
  "nbformat_minor": 0,
  "metadata": {
    "colab": {
      "name": "European_Call_Option.ipynb",
      "provenance": [],
      "collapsed_sections": []
    },
    "kernelspec": {
      "name": "python3",
      "display_name": "Python 3"
    },
    "language_info": {
      "name": "python"
    }
  },
  "cells": [
    {
      "cell_type": "code",
      "execution_count": null,
      "metadata": {
        "id": "V5leI9vXGxiw"
      },
      "outputs": [],
      "source": [
        "#!pip install qiskit\n",
        "#!pip install qiskit_finance\n",
        "\n",
        "import matplotlib.pyplot as plt\n",
        "\n",
        "%matplotlib inline\n",
        "import numpy as np\n",
        "\n",
        "from qiskit import Aer, QuantumCircuit\n",
        "from qiskit.utils import QuantumInstance\n",
        "from qiskit.algorithms import IterativeAmplitudeEstimation, EstimationProblem\n",
        "from qiskit.circuit.library import LinearAmplitudeFunction\n",
        "from qiskit_finance.circuit.library import LogNormalDistribution"
      ]
    },
    {
      "cell_type": "code",
      "source": [
        "num_uncertainty_qubits = 3\n",
        "\n",
        "spot = 3.0\n",
        "vol = 0.2 #volatility\n",
        "rate = 0.05 #annual interest rate\n",
        "T = 100 / 365 #100 days until expiry\n",
        "\n",
        "# returns are log-normally distributed, values relating to this distribution shown here\n",
        "\n",
        "mu = (rate - 0.5 * vol ** 2) * T + np.log(spot)\n",
        "sigma = vol * np.sqrt(T)\n",
        "mean = np.exp(mu + sigma ** 2 / 2)\n",
        "variance = (np.exp(sigma ** 2) - 1) * np.exp(2 * mu + sigma ** 2)\n",
        "stddev = np.sqrt(variance)\n",
        "\n",
        "# setting the lowest and highest values considered by our model\n",
        "low = np.maximum(0, mean - 3 * stddev)\n",
        "high = mean + 3 * stddev\n",
        "\n",
        "# loading the option's probability distribution onto the quantum computer\n",
        "\n",
        "uncertainty_model = LogNormalDistribution(\n",
        "    num_uncertainty_qubits, mu=mu, sigma=sigma ** 2, bounds=(low, high)\n",
        ")"
      ],
      "metadata": {
        "id": "IuYKTZ7LG85L"
      },
      "execution_count": null,
      "outputs": []
    },
    {
      "cell_type": "code",
      "source": [
        "x = uncertainty_model.values\n",
        "y = uncertainty_model.probabilities\n",
        "plt.bar(x, y, width=0.2)\n",
        "plt.xticks(x, size=15, rotation=90)\n",
        "plt.yticks(size=15)\n",
        "plt.grid()\n",
        "plt.xlabel(\"Spot Price at Maturity $S_T$ (\\$)\", size=15)\n",
        "plt.ylabel(\"Probability ($\\%$)\", size=15)\n",
        "plt.show()"
      ],
      "metadata": {
        "colab": {
          "base_uri": "https://localhost:8080/",
          "height": 327
        },
        "id": "gCoQSyuvNT1k",
        "outputId": "92f4eb7c-74a0-4d6c-925e-2881ac965704"
      },
      "execution_count": null,
      "outputs": [
        {
          "output_type": "display_data",
          "data": {
            "text/plain": [
              "<Figure size 432x288 with 1 Axes>"
            ],
            "image/png": "[encoded data removed]"
          },
          "metadata": {
            "needs_background": "light"
          }
        }
      ]
    },
    {
      "cell_type": "code",
      "source": [
        "# set the strike price \n",
        "strike_price = 3.40\n",
        "\n",
        "# scalar that determines accuracy of final output\n",
        "# the lower the better\n",
        "c_approx = 0.25\n",
        "\n",
        "# setup piecewise linear\n",
        "# only works if stock price at maturity is above strike\n",
        "breakpoints = [low, strike_price]\n",
        "slopes = [0, 1]\n",
        "offsets = [0, 0]\n",
        "f_min = 0\n",
        "f_max = high - strike_price\n",
        "european_call_objective = LinearAmplitudeFunction(\n",
        "    num_uncertainty_qubits,\n",
        "    slopes,\n",
        "    offsets,\n",
        "    domain=(low, high),\n",
        "    image=(f_min, f_max),\n",
        "    breakpoints=breakpoints,\n",
        "    rescaling_factor=c_approx,\n",
        ")\n",
        "\n",
        "# use the uncertainty model and the our objective function\n",
        "# to create a quantum circuit\n",
        "num_qubits = european_call_objective.num_qubits\n",
        "european_call = QuantumCircuit(num_qubits)\n",
        "european_call.append(uncertainty_model, range(num_uncertainty_qubits))\n",
        "european_call.append(european_call_objective, range(num_qubits))\n",
        "\n",
        "# draw the circuit\n",
        "european_call.draw()"
      ],
      "metadata": {
        "colab": {
          "base_uri": "https://localhost:8080/",
          "height": 248
        },
        "id": "zwKLwNm8NWog",
        "outputId": "454db717-fab9-4524-a583-538fdfc3c490"
      },
      "execution_count": null,
      "outputs": [
        {
          "output_type": "execute_result",
          "data": {
            "text/plain": [
              "     ┌───────┐┌────┐\n",
              "q_0: ┤0      ├┤0   ├\n",
              "     │       ││    │\n",
              "q_1: ┤1 P(X) ├┤1   ├\n",
              "     │       ││    │\n",
              "q_2: ┤2      ├┤2   ├\n",
              "     └───────┘│    │\n",
              "q_3: ─────────┤3 F ├\n",
              "              │    │\n",
              "q_4: ─────────┤4   ├\n",
              "              │    │\n",
              "q_5: ─────────┤5   ├\n",
              "              │    │\n",
              "q_6: ─────────┤6   ├\n",
              "              └────┘"
            ],
            "text/html": [
              "<pre style=\"word-wrap: normal;white-space: pre;background: #fff0;line-height: 1.1;font-family: &quot;Courier New&quot;,Courier,monospace\">     ┌───────┐┌────┐\n",
              "q_0: ┤0      ├┤0   ├\n",
              "     │       ││    │\n",
              "q_1: ┤1 P(X) ├┤1   ├\n",
              "     │       ││    │\n",
              "q_2: ┤2      ├┤2   ├\n",
              "     └───────┘│    │\n",
              "q_3: ─────────┤3 F ├\n",
              "              │    │\n",
              "q_4: ─────────┤4   ├\n",
              "              │    │\n",
              "q_5: ─────────┤5   ├\n",
              "              │    │\n",
              "q_6: ─────────┤6   ├\n",
              "              └────┘</pre>"
            ]
          },
          "metadata": {},
          "execution_count": 27
        }
      ]
    },
    {
      "cell_type": "code",
      "source": [
        "# show the behaviour of the payoff function\n",
        "x = uncertainty_model.values\n",
        "y = np.maximum(0, x - strike_price)\n",
        "plt.plot(x, y, \"ro-\")\n",
        "plt.grid()\n",
        "plt.title(\"Payoff Function\", size=15)\n",
        "plt.xlabel(\"Spot Price\", size=15)\n",
        "plt.ylabel(\"Payoff\", size=15)\n",
        "plt.xticks(x, size=15, rotation=90)\n",
        "plt.yticks(size=15)\n",
        "plt.show()"
      ],
      "metadata": {
        "colab": {
          "base_uri": "https://localhost:8080/",
          "height": 335
        },
        "id": "BdLhtGy8Pmvh",
        "outputId": "79f69879-2784-47e2-af2d-67c1fd6acd00"
      },
      "execution_count": null,
      "outputs": [
        {
          "output_type": "display_data",
          "data": {
            "text/plain": [
              "<Figure size 432x288 with 1 Axes>"
            ],
            "image/png": "[encoded data removed]"
          },
          "metadata": {
            "needs_background": "light"
          }
        }
      ]
    },
    {
      "cell_type": "code",
      "source": [
        "exact_value = np.dot(uncertainty_model.probabilities, y)\n",
        "print(\"exact expected value:\\t%.4f\" % exact_value)"
      ],
      "metadata": {
        "colab": {
          "base_uri": "https://localhost:8080/"
        },
        "id": "Rn-lhNqOSQVZ",
        "outputId": "0882b18d-73aa-49f4-b511-af9e77d93497"
      },
      "execution_count": null,
      "outputs": [
        {
          "output_type": "stream",
          "name": "stdout",
          "text": [
            "exact expected value:\t0.0241\n"
          ]
        }
      ]
    },
    {
      "cell_type": "code",
      "source": [
        "# set target precision and confidence level\n",
        "epsilon = 0.01\n",
        "alpha = 0.05\n",
        "\n",
        "qi = QuantumInstance(Aer.get_backend(\"aer_simulator\"), shots=1024)\n",
        "problem = EstimationProblem(\n",
        "    state_preparation=european_call,\n",
        "    objective_qubits=[3],\n",
        "    post_processing=european_call_objective.post_processing,\n",
        ")\n",
        "# construct amplitude estimation\n",
        "ae = IterativeAmplitudeEstimation(epsilon, alpha=alpha, quantum_instance=qi)"
      ],
      "metadata": {
        "id": "a4YlA65HP2JU"
      },
      "execution_count": null,
      "outputs": []
    },
    {
      "cell_type": "code",
      "source": [
        "result = ae.estimate(problem)"
      ],
      "metadata": {
        "id": "2aMXit3OSCu3"
      },
      "execution_count": null,
      "outputs": []
    },
    {
      "cell_type": "code",
      "source": [
        "conf_int = np.array(result.confidence_interval_processed)\n",
        "print(\"Exact value:        \\t%.4f\" % exact_value)\n",
        "print(\"Estimated value:    \\t%.4f\" % (result.estimation_processed))\n",
        "print(\"Confidence interval:\\t[%.4f, %.4f]\" % tuple(conf_int))"
      ],
      "metadata": {
        "colab": {
          "base_uri": "https://localhost:8080/"
        },
        "id": "XODHF-p-SF-6",
        "outputId": "09621048-b5b8-4fe1-a2ec-4ddaf1edbde1"
      },
      "execution_count": null,
      "outputs": [
        {
          "output_type": "stream",
          "name": "stdout",
          "text": [
            "Exact value:        \t0.0241\n",
            "Estimated value:    \t0.0281\n",
            "Confidence interval:\t[0.0225, 0.0336]\n"
          ]
        }
      ]
    },
    {
      "cell_type": "code",
      "source": [
        ""
      ],
      "metadata": {
        "id": "d-yfoZ-DSIQu"
      },
      "execution_count": null,
      "outputs": []
    }
  ]
}